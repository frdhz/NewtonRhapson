{
 "cells": [
  {
   "cell_type": "code",
   "execution_count": 1,
   "metadata": {},
   "outputs": [
    {
     "data": {
      "text/plain": [
       "EncontradorDeX (generic function with 1 method)"
      ]
     },
     "metadata": {},
     "output_type": "display_data"
    }
   ],
   "source": [
    "#Algoritmo de biseccion que vamos a usar para encontrar la x que usamos en el algoritmo de contracción.\n",
    "\n",
    "function EncontradorDeX(f, a , b, eps)\n",
    "    if f(a)*f(b)>0              #validación para ver si el intervalo dado es válido.\n",
    "        throw(\"Los puntos de inicio no son válidos. Deben tener signos diferentes.\")\n",
    "    end\n",
    "    c=(a+b)/2       \n",
    "    error = abs(b-a)            #error es la varibale a partir de la cual vamos a comparar a epsilon       \n",
    "    while error>eps            #ciclo a paritr del cual vamos a hacer la biseccion, pedimos dos condiciones que pare cuando el error sea menor al epsilon y que las iteraciones sean mayores a n.\n",
    "        if f(c)== 0             #validación de si c ya es una raiz.\n",
    "            return 0            \n",
    "        elseif f(a)*f(c)<0      # continuación del algortimo de biseccion\n",
    "            b=c\n",
    "        else                    # continuación del algortimo de biseccion\n",
    "            a=c\n",
    "        end\n",
    "        c=(a+b)/2               # continuación del algortimo de biseccion\n",
    "        error = abs(b-a)        # continuación del algortimo de biseccion\n",
    "    end\n",
    "    return c\n",
    "end"
   ]
  },
  {
   "cell_type": "code",
   "execution_count": 2,
   "metadata": {},
   "outputs": [
    {
     "data": {
      "text/plain": [
       "F (generic function with 1 method)"
      ]
     },
     "metadata": {},
     "output_type": "display_data"
    }
   ],
   "source": [
    "#Declaramos implicitamente a la función que vamos a hacerle newton rhapson, para \"fijar\" una x y que corra libre la y.\n",
    "function F(x)\n",
    "    function f(y)\n",
    "        f = exp(2*y) + exp(3*y)-x\n",
    "    end\n",
    "    return f\n",
    "end"
   ]
  },
  {
   "cell_type": "code",
   "execution_count": 3,
   "metadata": {},
   "outputs": [
    {
     "data": {
      "text/plain": [
       "derivadaF (generic function with 1 method)"
      ]
     },
     "metadata": {},
     "output_type": "display_data"
    }
   ],
   "source": [
    "#Declaramos esta funcion que vamos a utilizar en la sucesión, la declaramos implicitamente para igual fijar la x\n",
    "function derivadaF(x)\n",
    "    function derivadaf(y)\n",
    "        derivadaf = 2exp(2*y)+3exp(3*y)\n",
    "    end\n",
    "    return derivadaf\n",
    "end"
   ]
  },
  {
   "cell_type": "code",
   "execution_count": 4,
   "metadata": {},
   "outputs": [
    {
     "data": {
      "text/plain": [
       "biderivadaF (generic function with 1 method)"
      ]
     },
     "metadata": {},
     "output_type": "display_data"
    }
   ],
   "source": [
    "#Declaramos esta funcion que vamos a utilizar en la sucesión, la declaramos implicitamente para igual fijar la x\n",
    "function biderivadaF(x)\n",
    "    function biderivadaf(y)\n",
    "        biderivadaf = 4exp(2*y)+9exp(3*y)\n",
    "    end\n",
    "    return biderivadaf\n",
    "end"
   ]
  },
  {
   "cell_type": "code",
   "execution_count": 5,
   "metadata": {},
   "outputs": [
    {
     "data": {
      "text/plain": [
       "cotainf (generic function with 1 method)"
      ]
     },
     "metadata": {},
     "output_type": "display_data"
    }
   ],
   "source": [
    "function cotainf(x)  #bloque donde se define a la cota inferior, basado en el procedimiento en clase.\n",
    "    cotainf=(1/3)*log(x)\n",
    "    return cotainf\n",
    "end"
   ]
  },
  {
   "cell_type": "code",
   "execution_count": 6,
   "metadata": {},
   "outputs": [
    {
     "data": {
      "text/plain": [
       "cotasup (generic function with 1 method)"
      ]
     },
     "metadata": {},
     "output_type": "display_data"
    }
   ],
   "source": [
    "function cotasup(x)   #bloque donde se define a la cota superior, basado en el procedimiento en clase.\n",
    "    if x>2      #dividimos en casos por que en el caso particular de a=2 y b=3 es necesario para definir adecuadamente las cotas. \n",
    "        cotasup=(1/3)*log(x/2)\n",
    "    elseif x<2\n",
    "        cotasup=(1/2)*log(x/2)\n",
    "    end\n",
    "    return cotasup\n",
    "end"
   ]
  },
  {
   "cell_type": "code",
   "execution_count": 7,
   "metadata": {},
   "outputs": [
    {
     "data": {
      "text/plain": [
       "NewtonRhapson (generic function with 1 method)"
      ]
     },
     "metadata": {},
     "output_type": "display_data"
    }
   ],
   "source": [
    "# algoritmo donde se realiza el newton rhapson.\n",
    "# importamos a las funciones F, derivadaF y biderivadaF para armar la sucesion del teorema de contracción.\n",
    "# Aplicamos biseccion a dg porque necesitamos que la derivada de la funcion a la cual le vamos a aplicar NR sea menor a 1, \n",
    "# al encontrar la raiz de dg podemos afirmar que nuestra x1 esta ne la vecindad del teorema y por lo tanto converge \n",
    "function NewtonRhapson(x, eps)\n",
    "    f = F(x)\n",
    "    df = derivadaF(x)\n",
    "    df_2 = biderivadaF(x)\n",
    "    g = x -> x-f(x)/df(x)\n",
    "    dg = x -> (f(x)*df_2(x))/(df(x)*df(x))\n",
    "    x1 = EncontradorDeX(dg, cotainf(x), cotasup(x), 1/2)\n",
    "    if abs(f(x1)) < eps\n",
    "        return x1\n",
    "    else\n",
    "        while abs(f(x1)) >= eps\n",
    "            x1 = x1 - f(x1)/df(x1)\n",
    "        end\n",
    "        return x1\n",
    "    end\n",
    "end"
   ]
  },
  {
   "cell_type": "code",
   "execution_count": 8,
   "metadata": {},
   "outputs": [
    {
     "data": {
      "text/plain": [
       "0.5847712867424792"
      ]
     },
     "metadata": {},
     "output_type": "display_data"
    }
   ],
   "source": [
    "NewtonRhapson(9, .00000001)"
   ]
  }
 ],
 "metadata": {
  "kernelspec": {
   "display_name": "Julia 1.8.5",
   "language": "julia",
   "name": "julia-1.8"
  },
  "language_info": {
   "file_extension": ".jl",
   "mimetype": "application/julia",
   "name": "julia",
   "version": "1.8.5"
  },
  "orig_nbformat": 4
 },
 "nbformat": 4,
 "nbformat_minor": 2
}
